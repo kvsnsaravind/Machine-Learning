{
  "nbformat": 4,
  "nbformat_minor": 0,
  "metadata": {
    "colab": {
      "name": "test_haghs.ipynb",
      "provenance": [],
      "collapsed_sections": []
    },
    "kernelspec": {
      "display_name": "Python 3",
      "name": "python3"
    },
    "language_info": {
      "name": "python"
    }
  },
  "cells": [
    {
      "cell_type": "code",
      "metadata": {
        "id": "OXK0Mhu9h_-2"
      },
      "source": [
        "import numpy as np\n",
        "import pandas as pd\n",
        "from sklearn.model_selection import train_test_split\n",
        "from matplotlib import pyplot as plt\n",
        "import tensorflow as tf\n",
        "from tensorflow.keras.layers import Dropout\n",
        "from tensorflow.keras.optimizers import Adam\n",
        "from sklearn.preprocessing import StandardScaler\n",
        "from tensorflow.keras.regularizers  import l1,l2,l1_l2"
      ],
      "execution_count": 230,
      "outputs": []
    },
    {
      "cell_type": "code",
      "metadata": {
        "colab": {
          "base_uri": "https://localhost:8080/"
        },
        "id": "L6S1vappiHCN",
        "outputId": "64bcaf57-2ce1-42ee-c4ad-5766bc8ef25e"
      },
      "source": [
        "diabetes_data = pd.read_csv(\"diabetes.csv\") \n",
        "diabetes_data.shape"
      ],
      "execution_count": 5,
      "outputs": [
        {
          "output_type": "execute_result",
          "data": {
            "text/plain": [
              "(768, 9)"
            ]
          },
          "metadata": {},
          "execution_count": 5
        }
      ]
    },
    {
      "cell_type": "code",
      "metadata": {
        "colab": {
          "base_uri": "https://localhost:8080/",
          "height": 297
        },
        "id": "Qv2sHjMDshRM",
        "outputId": "e1f102bc-d569-46b0-c1f6-ca38600a3e29"
      },
      "source": [
        "diabetes_data.describe() #showing statistical values"
      ],
      "execution_count": 6,
      "outputs": [
        {
          "output_type": "execute_result",
          "data": {
            "text/html": [
              "<div>\n",
              "<style scoped>\n",
              "    .dataframe tbody tr th:only-of-type {\n",
              "        vertical-align: middle;\n",
              "    }\n",
              "\n",
              "    .dataframe tbody tr th {\n",
              "        vertical-align: top;\n",
              "    }\n",
              "\n",
              "    .dataframe thead th {\n",
              "        text-align: right;\n",
              "    }\n",
              "</style>\n",
              "<table border=\"1\" class=\"dataframe\">\n",
              "  <thead>\n",
              "    <tr style=\"text-align: right;\">\n",
              "      <th></th>\n",
              "      <th>Pregnancies</th>\n",
              "      <th>Glucose</th>\n",
              "      <th>BloodPressure</th>\n",
              "      <th>SkinThickness</th>\n",
              "      <th>Insulin</th>\n",
              "      <th>BMI</th>\n",
              "      <th>DiabetesPedigreeFunction</th>\n",
              "      <th>Age</th>\n",
              "      <th>Outcome</th>\n",
              "    </tr>\n",
              "  </thead>\n",
              "  <tbody>\n",
              "    <tr>\n",
              "      <th>count</th>\n",
              "      <td>768.000000</td>\n",
              "      <td>768.000000</td>\n",
              "      <td>768.000000</td>\n",
              "      <td>768.000000</td>\n",
              "      <td>768.000000</td>\n",
              "      <td>768.000000</td>\n",
              "      <td>768.000000</td>\n",
              "      <td>768.000000</td>\n",
              "      <td>768.000000</td>\n",
              "    </tr>\n",
              "    <tr>\n",
              "      <th>mean</th>\n",
              "      <td>3.845052</td>\n",
              "      <td>120.894531</td>\n",
              "      <td>69.105469</td>\n",
              "      <td>20.536458</td>\n",
              "      <td>79.799479</td>\n",
              "      <td>31.992578</td>\n",
              "      <td>0.471876</td>\n",
              "      <td>33.240885</td>\n",
              "      <td>0.348958</td>\n",
              "    </tr>\n",
              "    <tr>\n",
              "      <th>std</th>\n",
              "      <td>3.369578</td>\n",
              "      <td>31.972618</td>\n",
              "      <td>19.355807</td>\n",
              "      <td>15.952218</td>\n",
              "      <td>115.244002</td>\n",
              "      <td>7.884160</td>\n",
              "      <td>0.331329</td>\n",
              "      <td>11.760232</td>\n",
              "      <td>0.476951</td>\n",
              "    </tr>\n",
              "    <tr>\n",
              "      <th>min</th>\n",
              "      <td>0.000000</td>\n",
              "      <td>0.000000</td>\n",
              "      <td>0.000000</td>\n",
              "      <td>0.000000</td>\n",
              "      <td>0.000000</td>\n",
              "      <td>0.000000</td>\n",
              "      <td>0.078000</td>\n",
              "      <td>21.000000</td>\n",
              "      <td>0.000000</td>\n",
              "    </tr>\n",
              "    <tr>\n",
              "      <th>25%</th>\n",
              "      <td>1.000000</td>\n",
              "      <td>99.000000</td>\n",
              "      <td>62.000000</td>\n",
              "      <td>0.000000</td>\n",
              "      <td>0.000000</td>\n",
              "      <td>27.300000</td>\n",
              "      <td>0.243750</td>\n",
              "      <td>24.000000</td>\n",
              "      <td>0.000000</td>\n",
              "    </tr>\n",
              "    <tr>\n",
              "      <th>50%</th>\n",
              "      <td>3.000000</td>\n",
              "      <td>117.000000</td>\n",
              "      <td>72.000000</td>\n",
              "      <td>23.000000</td>\n",
              "      <td>30.500000</td>\n",
              "      <td>32.000000</td>\n",
              "      <td>0.372500</td>\n",
              "      <td>29.000000</td>\n",
              "      <td>0.000000</td>\n",
              "    </tr>\n",
              "    <tr>\n",
              "      <th>75%</th>\n",
              "      <td>6.000000</td>\n",
              "      <td>140.250000</td>\n",
              "      <td>80.000000</td>\n",
              "      <td>32.000000</td>\n",
              "      <td>127.250000</td>\n",
              "      <td>36.600000</td>\n",
              "      <td>0.626250</td>\n",
              "      <td>41.000000</td>\n",
              "      <td>1.000000</td>\n",
              "    </tr>\n",
              "    <tr>\n",
              "      <th>max</th>\n",
              "      <td>17.000000</td>\n",
              "      <td>199.000000</td>\n",
              "      <td>122.000000</td>\n",
              "      <td>99.000000</td>\n",
              "      <td>846.000000</td>\n",
              "      <td>67.100000</td>\n",
              "      <td>2.420000</td>\n",
              "      <td>81.000000</td>\n",
              "      <td>1.000000</td>\n",
              "    </tr>\n",
              "  </tbody>\n",
              "</table>\n",
              "</div>"
            ],
            "text/plain": [
              "       Pregnancies     Glucose  ...         Age     Outcome\n",
              "count   768.000000  768.000000  ...  768.000000  768.000000\n",
              "mean      3.845052  120.894531  ...   33.240885    0.348958\n",
              "std       3.369578   31.972618  ...   11.760232    0.476951\n",
              "min       0.000000    0.000000  ...   21.000000    0.000000\n",
              "25%       1.000000   99.000000  ...   24.000000    0.000000\n",
              "50%       3.000000  117.000000  ...   29.000000    0.000000\n",
              "75%       6.000000  140.250000  ...   41.000000    1.000000\n",
              "max      17.000000  199.000000  ...   81.000000    1.000000\n",
              "\n",
              "[8 rows x 9 columns]"
            ]
          },
          "metadata": {},
          "execution_count": 6
        }
      ]
    },
    {
      "cell_type": "code",
      "metadata": {
        "colab": {
          "base_uri": "https://localhost:8080/",
          "height": 204
        },
        "id": "w5KQC6uDsiVg",
        "outputId": "3dc72a7a-a12f-4adf-d9ce-d2ec3af4c6ca"
      },
      "source": [
        "#viewing the input features that determines the presence of diabetes\n",
        "\n",
        "diabetes_data.head(5)"
      ],
      "execution_count": 7,
      "outputs": [
        {
          "output_type": "execute_result",
          "data": {
            "text/html": [
              "<div>\n",
              "<style scoped>\n",
              "    .dataframe tbody tr th:only-of-type {\n",
              "        vertical-align: middle;\n",
              "    }\n",
              "\n",
              "    .dataframe tbody tr th {\n",
              "        vertical-align: top;\n",
              "    }\n",
              "\n",
              "    .dataframe thead th {\n",
              "        text-align: right;\n",
              "    }\n",
              "</style>\n",
              "<table border=\"1\" class=\"dataframe\">\n",
              "  <thead>\n",
              "    <tr style=\"text-align: right;\">\n",
              "      <th></th>\n",
              "      <th>Pregnancies</th>\n",
              "      <th>Glucose</th>\n",
              "      <th>BloodPressure</th>\n",
              "      <th>SkinThickness</th>\n",
              "      <th>Insulin</th>\n",
              "      <th>BMI</th>\n",
              "      <th>DiabetesPedigreeFunction</th>\n",
              "      <th>Age</th>\n",
              "      <th>Outcome</th>\n",
              "    </tr>\n",
              "  </thead>\n",
              "  <tbody>\n",
              "    <tr>\n",
              "      <th>0</th>\n",
              "      <td>6</td>\n",
              "      <td>148</td>\n",
              "      <td>72</td>\n",
              "      <td>35</td>\n",
              "      <td>0</td>\n",
              "      <td>33.6</td>\n",
              "      <td>0.627</td>\n",
              "      <td>50</td>\n",
              "      <td>1</td>\n",
              "    </tr>\n",
              "    <tr>\n",
              "      <th>1</th>\n",
              "      <td>1</td>\n",
              "      <td>85</td>\n",
              "      <td>66</td>\n",
              "      <td>29</td>\n",
              "      <td>0</td>\n",
              "      <td>26.6</td>\n",
              "      <td>0.351</td>\n",
              "      <td>31</td>\n",
              "      <td>0</td>\n",
              "    </tr>\n",
              "    <tr>\n",
              "      <th>2</th>\n",
              "      <td>8</td>\n",
              "      <td>183</td>\n",
              "      <td>64</td>\n",
              "      <td>0</td>\n",
              "      <td>0</td>\n",
              "      <td>23.3</td>\n",
              "      <td>0.672</td>\n",
              "      <td>32</td>\n",
              "      <td>1</td>\n",
              "    </tr>\n",
              "    <tr>\n",
              "      <th>3</th>\n",
              "      <td>1</td>\n",
              "      <td>89</td>\n",
              "      <td>66</td>\n",
              "      <td>23</td>\n",
              "      <td>94</td>\n",
              "      <td>28.1</td>\n",
              "      <td>0.167</td>\n",
              "      <td>21</td>\n",
              "      <td>0</td>\n",
              "    </tr>\n",
              "    <tr>\n",
              "      <th>4</th>\n",
              "      <td>0</td>\n",
              "      <td>137</td>\n",
              "      <td>40</td>\n",
              "      <td>35</td>\n",
              "      <td>168</td>\n",
              "      <td>43.1</td>\n",
              "      <td>2.288</td>\n",
              "      <td>33</td>\n",
              "      <td>1</td>\n",
              "    </tr>\n",
              "  </tbody>\n",
              "</table>\n",
              "</div>"
            ],
            "text/plain": [
              "   Pregnancies  Glucose  BloodPressure  ...  DiabetesPedigreeFunction  Age  Outcome\n",
              "0            6      148             72  ...                     0.627   50        1\n",
              "1            1       85             66  ...                     0.351   31        0\n",
              "2            8      183             64  ...                     0.672   32        1\n",
              "3            1       89             66  ...                     0.167   21        0\n",
              "4            0      137             40  ...                     2.288   33        1\n",
              "\n",
              "[5 rows x 9 columns]"
            ]
          },
          "metadata": {},
          "execution_count": 7
        }
      ]
    },
    {
      "cell_type": "code",
      "metadata": {
        "colab": {
          "base_uri": "https://localhost:8080/"
        },
        "id": "BjWpy-FbiV66",
        "outputId": "0fe39d82-9784-468f-af63-a2ccc577b2c0"
      },
      "source": [
        "from sklearn.model_selection import train_test_split\n",
        "\n",
        "#X contains input features without output attribute\n",
        "X = diabetes_data.drop(columns = ['Outcome']).copy()\n",
        "y = diabetes_data['Outcome']\n",
        "\n",
        "#training_data_size=60%\n",
        "X_train, X_valid_test, y_train, y_valid_test = train_test_split(X,y, train_size=0.6)\n",
        "\n",
        "#validating_data_size and testing_data_size = 20% each\n",
        "X_valid, X_test, y_valid, y_test = train_test_split(X_valid_test,y_valid_test, test_size=0.5)\n",
        "\n",
        "X_train = X_train.values\n",
        "X_valid = X_valid.values\n",
        "X_test = X_test.values\n",
        "y_train = y_train.values\n",
        "y_valid = y_valid.values\n",
        "y_test = y_test.values\n",
        "print(X_train.shape)\n",
        "print(X_valid.shape)\n",
        "print(X_test.shape)"
      ],
      "execution_count": 8,
      "outputs": [
        {
          "output_type": "stream",
          "name": "stdout",
          "text": [
            "(460, 8)\n",
            "(154, 8)\n",
            "(154, 8)\n"
          ]
        }
      ]
    },
    {
      "cell_type": "code",
      "metadata": {
        "colab": {
          "base_uri": "https://localhost:8080/"
        },
        "id": "xPgsuDojo5ah",
        "outputId": "a6a19527-39dc-44c0-c943-b42003e79201"
      },
      "source": [
        "X_train.size"
      ],
      "execution_count": 9,
      "outputs": [
        {
          "output_type": "execute_result",
          "data": {
            "text/plain": [
              "3680"
            ]
          },
          "metadata": {},
          "execution_count": 9
        }
      ]
    },
    {
      "cell_type": "code",
      "metadata": {
        "id": "f_Wfa-b_ijCE"
      },
      "source": [
        "X_train = X_train.T\n",
        "X_valid = X_valid.T\n",
        "X_test = X_test.T\n",
        "\n",
        "y_train = y_train.reshape(1, X_train.shape[1])\n",
        "y_valid = y_valid.reshape(1, X_valid.shape[1])\n",
        "y_test = y_test.reshape(1, X_test.shape[1])"
      ],
      "execution_count": 10,
      "outputs": []
    },
    {
      "cell_type": "code",
      "metadata": {
        "id": "NeGsNpK3tBkf"
      },
      "source": [
        "#defining sigmoid function \n",
        "def sigmoid(x):\n",
        "    return 1/(1 + np.exp(-x))"
      ],
      "execution_count": 11,
      "outputs": []
    },
    {
      "cell_type": "code",
      "metadata": {
        "id": "uA_8xBudtD4A"
      },
      "source": [
        "#defining the cost function of logistic regression\n",
        "def cost_function(m,y,A):\n",
        "    return -(1/m)*np.sum( y*np.log(A) + (1-y)*np.log(1-A))"
      ],
      "execution_count": 12,
      "outputs": []
    },
    {
      "cell_type": "code",
      "metadata": {
        "id": "DKJcpqPPtGBr"
      },
      "source": [
        "def print_cost(i,cost,epochs):\n",
        "    if(i%(epochs/10) == 0):\n",
        "        print(\"cost value in \", i, \"th epoch is : \", cost)"
      ],
      "execution_count": 13,
      "outputs": []
    },
    {
      "cell_type": "code",
      "metadata": {
        "id": "6pEsc_o6tIdd"
      },
      "source": [
        "#defining the model\n",
        "\n",
        "def logistic_regression_model(X, y, learning_rate, epochs):\n",
        "    \n",
        "    m = X_train.shape[1]\n",
        "    n = X_train.shape[0]\n",
        "    \n",
        "    W = np.zeros((n,1))\n",
        "    B = 0\n",
        "    \n",
        "    cost_values = []\n",
        "    validation_cost_values = []\n",
        "\n",
        "    for i in range(epochs):\n",
        "        \n",
        "        Z = np.dot(W.T, X) + B\n",
        "        A = sigmoid(Z)\n",
        "        cost = cost_function(m,y,A)\n",
        "        \n",
        "        # Gradient Descent\n",
        "        dW = (1/m) * np.dot(A-y, X.T)\n",
        "        dB = (1/m) * np.sum(A - y)\n",
        "        \n",
        "        W = W - learning_rate * dW.T\n",
        "        B = B - learning_rate * dB\n",
        "\n",
        "        # keeping track of validation dataset cost function values\n",
        "        A_Valid = sigmoid(np.dot(W.T, X) + B)\n",
        "        validation_loss = cost_function(m,y,A_Valid)\n",
        "        validation_cost_values.append(validation_loss)\n",
        "        \n",
        "        # keeping track of training dataset loss function values\n",
        "        cost_values.append(cost)\n",
        "        print_cost(i,cost,epochs)\n",
        "        \n",
        "    return W, B, cost_values, validation_cost_values"
      ],
      "execution_count": 14,
      "outputs": []
    },
    {
      "cell_type": "code",
      "metadata": {
        "colab": {
          "base_uri": "https://localhost:8080/"
        },
        "id": "24mMvBYftMZE",
        "outputId": "cf6ad4cf-00a1-466d-d88a-bd2e16b52127"
      },
      "source": [
        "epochs = 1000000\n",
        "learning_rate = 0.00029\n",
        "W, B, cost_values, validation_cost_values = logistic_regression_model(X_train, y_train, learning_rate = learning_rate, epochs = epochs)"
      ],
      "execution_count": 72,
      "outputs": [
        {
          "output_type": "stream",
          "name": "stdout",
          "text": [
            "cost value in  0 th epoch is :  0.6931471805599452\n",
            "cost value in  100000 th epoch is :  0.6296001534928567\n",
            "cost value in  200000 th epoch is :  0.5983225933382859\n",
            "cost value in  300000 th epoch is :  0.5714668766172452\n",
            "cost value in  400000 th epoch is :  0.5486522600025266\n",
            "cost value in  500000 th epoch is :  0.5294405212079177\n",
            "cost value in  600000 th epoch is :  0.5133976746579891\n",
            "cost value in  700000 th epoch is :  0.5035427979303352\n",
            "cost value in  800000 th epoch is :  0.4995737903356091\n",
            "cost value in  900000 th epoch is :  0.4964457125883251\n"
          ]
        }
      ]
    },
    {
      "cell_type": "code",
      "metadata": {
        "colab": {
          "base_uri": "https://localhost:8080/",
          "height": 279
        },
        "id": "js0i6rD1tcHS",
        "outputId": "730b8bae-13c4-41af-d80a-21cbe7f1e07e"
      },
      "source": [
        "#plotting graph between number of iterations and traininng loss\n",
        "plt.plot(range(epochs), cost_values)\n",
        "plt.xlabel('Number of epochs')\n",
        "plt.ylabel('Training Loss')\n",
        "plt.show()"
      ],
      "execution_count": 74,
      "outputs": [
        {
          "output_type": "display_data",
          "data": {
            "image/png": "[encoded data removed]",
            "text/plain": [
              "<Figure size 432x288 with 1 Axes>"
            ]
          },
          "metadata": {
            "needs_background": "light"
          }
        }
      ]
    },
    {
      "cell_type": "code",
      "metadata": {
        "colab": {
          "base_uri": "https://localhost:8080/",
          "height": 279
        },
        "id": "jfjgp2estdOo",
        "outputId": "80524107-8580-494f-f0d2-65d4df5afd79"
      },
      "source": [
        "plt.plot(range(epochs), validation_cost_values)\n",
        "plt.xlabel('Number of epochs')\n",
        "plt.ylabel('Validation Loss')\n",
        "plt.show()"
      ],
      "execution_count": 75,
      "outputs": [
        {
          "output_type": "display_data",
          "data": {
            "image/png": "[encoded data removed]",
            "text/plain": [
              "<Figure size 432x288 with 1 Axes>"
            ]
          },
          "metadata": {
            "needs_background": "light"
          }
        }
      ]
    },
    {
      "cell_type": "code",
      "metadata": {
        "id": "zpRZV9hvthXn"
      },
      "source": [
        "def accuracy(X, y, W, B, m):\n",
        "    Z = np.dot(W.T, X) + B\n",
        "    A = sigmoid(Z)\n",
        "    A = A > 0.5\n",
        "    A = np.array(A)\n",
        "    acc = (1 - np.sum(np.absolute(A - y))/m)*100\n",
        "    return acc"
      ],
      "execution_count": 76,
      "outputs": []
    },
    {
      "cell_type": "code",
      "metadata": {
        "colab": {
          "base_uri": "https://localhost:8080/"
        },
        "id": "x1-OFGaitiUU",
        "outputId": "60a56b96-9f4f-45ca-9299-65d7b1ba5325"
      },
      "source": [
        "m = y_valid.shape[1]\n",
        "accuracy_valid = accuracy(X_valid, y_valid, W, B, m)\n",
        "print(\"Accuracy for validation set is : \", round(accuracy_valid, 3), \"%\")"
      ],
      "execution_count": 77,
      "outputs": [
        {
          "output_type": "stream",
          "name": "stdout",
          "text": [
            "Accuracy for validation set is :  78.571 %\n"
          ]
        }
      ]
    },
    {
      "cell_type": "code",
      "metadata": {
        "colab": {
          "base_uri": "https://localhost:8080/"
        },
        "id": "zmgF6_Eftksu",
        "outputId": "e6b40308-2ad9-484c-d65a-2025c3d045c4"
      },
      "source": [
        "n = y_test.shape[1]\n",
        "accuracy_test = accuracy(X_test, y_test, W, B, n)\n",
        "print(\"Accuracy for testing set is : \", round(accuracy_test, 3), \"%\")"
      ],
      "execution_count": 78,
      "outputs": [
        {
          "output_type": "stream",
          "name": "stdout",
          "text": [
            "Accuracy for testing set is :  75.325 %\n"
          ]
        }
      ]
    },
    {
      "cell_type": "code",
      "metadata": {
        "id": "fL2Pj3R8CCV3"
      },
      "source": [
        "x = diabetes_data.iloc[:, :-1].values\n",
        "Y = diabetes_data[\"Outcome\"].values"
      ],
      "execution_count": 79,
      "outputs": []
    },
    {
      "cell_type": "code",
      "metadata": {
        "id": "FkplaXtTCDvF"
      },
      "source": [
        "x_train, x_test_valid, Y_train, Y_test_valid = train_test_split(X, y, test_size=0.6)"
      ],
      "execution_count": 80,
      "outputs": []
    },
    {
      "cell_type": "code",
      "metadata": {
        "id": "OcRU9pKKCGwm"
      },
      "source": [
        "x_valid, x_test, Y_valid, Y_test = train_test_split(x_test_valid, Y_test_valid, test_size=0.5)"
      ],
      "execution_count": 81,
      "outputs": []
    },
    {
      "cell_type": "code",
      "metadata": {
        "id": "J0GZkA_ICI36"
      },
      "source": [
        "#scaling the data\n",
        "normalizer = StandardScaler()\n",
        "X_train_norm = normalizer.fit_transform(x_train)\n",
        "X_valid_norm = normalizer.fit_transform(x_valid)\n",
        "X_test_norm = normalizer.transform(x_test)"
      ],
      "execution_count": 229,
      "outputs": []
    },
    {
      "cell_type": "code",
      "metadata": {
        "colab": {
          "base_uri": "https://localhost:8080/"
        },
        "id": "GPxDHhTUikTw",
        "outputId": "ddce0647-5ef3-4ae6-c3da-db701ab1f5e7"
      },
      "source": [
        "#neural network model without regularizer and one hidden layer\n",
        "model = tf.keras.models.Sequential()\n",
        "model.add(tf.keras.layers.Dense(32, activation=\"relu\", input_dim=8))\n",
        "model.add(tf.keras.layers.Dense(32, activation='relu'))\n",
        "model.add(tf.keras.layers.Dense(1, activation='sigmoid'))\n",
        "model.compile(optimizer='adam', loss='binary_crossentropy', metrics=['accuracy'])\n",
        "print(model.summary())"
      ],
      "execution_count": 166,
      "outputs": [
        {
          "output_type": "stream",
          "name": "stdout",
          "text": [
            "Model: \"sequential_22\"\n",
            "_________________________________________________________________\n",
            "Layer (type)                 Output Shape              Param #   \n",
            "=================================================================\n",
            "dense_87 (Dense)             (None, 32)                288       \n",
            "_________________________________________________________________\n",
            "dense_88 (Dense)             (None, 32)                1056      \n",
            "_________________________________________________________________\n",
            "dense_89 (Dense)             (None, 1)                 33        \n",
            "=================================================================\n",
            "Total params: 1,377\n",
            "Trainable params: 1,377\n",
            "Non-trainable params: 0\n",
            "_________________________________________________________________\n",
            "None\n"
          ]
        }
      ]
    },
    {
      "cell_type": "code",
      "metadata": {
        "id": "nPo8HmUAZJP5"
      },
      "source": [
        "#fitting the test data into model\n",
        "history = model.fit(X_train_norm, Y_train, validation_data=(X_valid_norm,Y_valid),epochs=100, batch_size=64,verbose=0)"
      ],
      "execution_count": 168,
      "outputs": []
    },
    {
      "cell_type": "code",
      "metadata": {
        "colab": {
          "base_uri": "https://localhost:8080/"
        },
        "id": "YkV1Bh5UaqKr",
        "outputId": "81979c83-b17f-40f9-a95a-fea1541db69b"
      },
      "source": [
        "# Testing the the first neural network model\n",
        "model_loss, model_accuracy = model.evaluate(X_test_norm, Y_test, verbose=0)\n",
        "print('Loss without regularizer is', model_loss)\n",
        "print('Accuracy without regularizer is:', model_accuracy)"
      ],
      "execution_count": 231,
      "outputs": [
        {
          "output_type": "stream",
          "name": "stdout",
          "text": [
            "Loss without regularizer is 0.6076681017875671\n",
            "Accuracy without regularizer is: 0.7402597665786743\n"
          ]
        }
      ]
    },
    {
      "cell_type": "code",
      "metadata": {
        "colab": {
          "base_uri": "https://localhost:8080/",
          "height": 279
        },
        "id": "nBzR8ATFqvRv",
        "outputId": "4ae4b7d3-5d52-4cd3-c018-29c79045d619"
      },
      "source": [
        "#plotting graph between model loss and epochs\n",
        "plt.plot(history.history['loss'],\"b\",label=\"Train Loss\")\n",
        "plt.plot(history.history['val_loss'],\"r\",label=\"Validation loss\")\n",
        "plt.ylabel('loss')\n",
        "plt.xlabel('epochs')\n",
        "plt.show()"
      ],
      "execution_count": 232,
      "outputs": [
        {
          "output_type": "display_data",
          "data": {
            "image/png": "[encoded data removed]",
            "text/plain": [
              "<Figure size 432x288 with 1 Axes>"
            ]
          },
          "metadata": {
            "needs_background": "light"
          }
        }
      ]
    },
    {
      "cell_type": "code",
      "metadata": {
        "colab": {
          "base_uri": "https://localhost:8080/",
          "height": 282
        },
        "id": "nIsuSmTLi3vW",
        "outputId": "892af972-d3b8-417e-e9d9-b3fcf7b02159"
      },
      "source": [
        "#plotting graph between model accuracy and epochs\n",
        "plt.plot(history.history['accuracy'],'b')\n",
        "plt.plot(history.history['val_accuracy'],'r')\n",
        "plt.ylabel('accuracy')\n",
        "plt.xlabel('epochs')\n",
        "plt.show()"
      ],
      "execution_count": 246,
      "outputs": [
        {
          "output_type": "display_data",
          "data": {
            "image/png": "[encoded data removed]",
            "text/plain": [
              "<Figure size 432x288 with 1 Axes>"
            ]
          },
          "metadata": {
            "needs_background": "light"
          }
        }
      ]
    },
    {
      "cell_type": "code",
      "metadata": {
        "colab": {
          "base_uri": "https://localhost:8080/"
        },
        "id": "yoDbB0zPi4Hy",
        "outputId": "f41a21e7-0a77-4c1c-aee5-7d4b5ed7970c"
      },
      "source": [
        "#neural network model with regularizer and two hiddens layer\n",
        "model1 = tf.keras.models.Sequential()\n",
        "model1.add(tf.keras.layers.Dense(64, activation=\"relu\", input_dim=8))\n",
        "model1.add(tf.keras.layers.Dense(16, activation='relu'))\n",
        "model1.add(tf.keras.layers.Dense(16, activation='relu', kernel_regularizer=l1_l2(0.01)))\n",
        "model1.add(tf.keras.layers.Dense(1, activation='sigmoid'))  \n",
        "model1.compile(optimizer='adam', loss='binary_crossentropy', metrics=['accuracy'])\n",
        "print(model1.summary())"
      ],
      "execution_count": 176,
      "outputs": [
        {
          "output_type": "stream",
          "name": "stdout",
          "text": [
            "Model: \"sequential_23\"\n",
            "_________________________________________________________________\n",
            "Layer (type)                 Output Shape              Param #   \n",
            "=================================================================\n",
            "dense_90 (Dense)             (None, 64)                576       \n",
            "_________________________________________________________________\n",
            "dense_91 (Dense)             (None, 16)                1040      \n",
            "_________________________________________________________________\n",
            "dense_92 (Dense)             (None, 16)                272       \n",
            "_________________________________________________________________\n",
            "dense_93 (Dense)             (None, 1)                 17        \n",
            "=================================================================\n",
            "Total params: 1,905\n",
            "Trainable params: 1,905\n",
            "Non-trainable params: 0\n",
            "_________________________________________________________________\n",
            "None\n"
          ]
        }
      ]
    },
    {
      "cell_type": "code",
      "metadata": {
        "id": "DQyV7kr-i4fh"
      },
      "source": [
        "#fitting the test data into model1\n",
        "history1 = model1.fit(X_train_norm, Y_train,validation_data=(X_valid_norm,Y_valid),epochs=100, batch_size=32, verbose=0)"
      ],
      "execution_count": 177,
      "outputs": []
    },
    {
      "cell_type": "code",
      "metadata": {
        "colab": {
          "base_uri": "https://localhost:8080/"
        },
        "id": "qMkYzoPbpfie",
        "outputId": "79fe3ff2-0ff5-4c2d-9436-7401e31a13f0"
      },
      "source": [
        "# Testing the the second neural network model\n",
        "model1_loss1, model_accuracy1 = model1.evaluate(X_test_norm, Y_test,verbose=0)\n",
        "print('Loss with regularizer is', model1_loss1)\n",
        "print('Accuracy with regularizer is:', model_accuracy1)"
      ],
      "execution_count": 237,
      "outputs": [
        {
          "output_type": "stream",
          "name": "stdout",
          "text": [
            "Loss with regularizer is 0.6498211622238159\n",
            "Accuracy with regularizer is: 0.7662337422370911\n"
          ]
        }
      ]
    },
    {
      "cell_type": "code",
      "metadata": {
        "colab": {
          "base_uri": "https://localhost:8080/",
          "height": 279
        },
        "id": "xmJ4GFm0p0Tx",
        "outputId": "9f47cff6-c78c-4049-93ad-43a50e2bee02"
      },
      "source": [
        "#plotting graph between model1 loss and epochs\n",
        "plt.plot(history1.history['loss'],\"b\")\n",
        "plt.plot(history1.history['val_loss'],\"r\")\n",
        "plt.ylabel('loss1')\n",
        "plt.xlabel('epochs')\n",
        "plt.show()"
      ],
      "execution_count": 241,
      "outputs": [
        {
          "output_type": "display_data",
          "data": {
            "image/png": "[encoded data removed]",
            "text/plain": [
              "<Figure size 432x288 with 1 Axes>"
            ]
          },
          "metadata": {
            "needs_background": "light"
          }
        }
      ]
    },
    {
      "cell_type": "code",
      "metadata": {
        "colab": {
          "base_uri": "https://localhost:8080/",
          "height": 279
        },
        "id": "Ft3gvRj1qQ8F",
        "outputId": "d590a54c-a268-4e8d-bfe1-3c1031484cc6"
      },
      "source": [
        "# plotting graph between model1 accuracy and epochs\n",
        "plt.plot(history1.history['accuracy'],'b')\n",
        "plt.plot(history1.history['val_accuracy'],\"r\")\n",
        "plt.ylabel('accuracy1')\n",
        "plt.xlabel('epochs')\n",
        "plt.show()"
      ],
      "execution_count": 242,
      "outputs": [
        {
          "output_type": "display_data",
          "data": {
            "image/png": "[encoded data removed]",
            "text/plain": [
              "<Figure size 432x288 with 1 Axes>"
            ]
          },
          "metadata": {
            "needs_background": "light"
          }
        }
      ]
    },
    {
      "cell_type": "code",
      "metadata": {
        "colab": {
          "base_uri": "https://localhost:8080/"
        },
        "id": "POkqC9-XqXbk",
        "outputId": "069cd302-ebc0-4b10-c738-37698459b3f5"
      },
      "source": [
        "#neural network model with regularizer and dropout\n",
        "model2 = tf.keras.models.Sequential()\n",
        "model2.add(tf.keras.layers.Dense(64, activation=\"relu\", input_dim=8))\n",
        "model2.add(tf.keras.layers.Dense(16, activation='relu'))\n",
        "model2.add(tf.keras.layers.Dense(32, activation='relu', kernel_regularizer=l1(0.02)))\n",
        "model2.add(Dropout(.4))\n",
        "model2.add(tf.keras.layers.Dense(1, activation='sigmoid'))\n",
        "model2.compile(optimizer='adam', loss='binary_crossentropy', metrics=['accuracy'])\n",
        "print(model2.summary())"
      ],
      "execution_count": 223,
      "outputs": [
        {
          "output_type": "stream",
          "name": "stdout",
          "text": [
            "Model: \"sequential_31\"\n",
            "_________________________________________________________________\n",
            "Layer (type)                 Output Shape              Param #   \n",
            "=================================================================\n",
            "dense_122 (Dense)            (None, 64)                576       \n",
            "_________________________________________________________________\n",
            "dense_123 (Dense)            (None, 16)                1040      \n",
            "_________________________________________________________________\n",
            "dense_124 (Dense)            (None, 32)                544       \n",
            "_________________________________________________________________\n",
            "dropout_17 (Dropout)         (None, 32)                0         \n",
            "_________________________________________________________________\n",
            "dense_125 (Dense)            (None, 1)                 33        \n",
            "=================================================================\n",
            "Total params: 2,193\n",
            "Trainable params: 2,193\n",
            "Non-trainable params: 0\n",
            "_________________________________________________________________\n",
            "None\n"
          ]
        }
      ]
    },
    {
      "cell_type": "code",
      "metadata": {
        "id": "KL9JCIOkcdJe"
      },
      "source": [
        "#fitting the test data into model2\n",
        "history2 = model2.fit(X_train_norm, Y_train,validation_data=(X_valid_norm,Y_valid),epochs=110, batch_size=64,verbose=0)"
      ],
      "execution_count": 224,
      "outputs": []
    },
    {
      "cell_type": "code",
      "metadata": {
        "colab": {
          "base_uri": "https://localhost:8080/"
        },
        "id": "xINoLIzpqpxB",
        "outputId": "476d5b8a-23c4-4da9-9552-554002bec3da"
      },
      "source": [
        "# Testing the the third neural network model\n",
        "model2_loss2, model2_accuracy2 = model2.evaluate(X_test_norm, Y_test,verbose=0)\n",
        "print('Loss with regularizer and dropout is', model2_loss2)\n",
        "print('Accuracy with regularizer and dropout is:', model2_accuracy2)"
      ],
      "execution_count": 243,
      "outputs": [
        {
          "output_type": "stream",
          "name": "stdout",
          "text": [
            "Loss with regularizer and dropout is 0.5769876837730408\n",
            "Accuracy with regularizer and dropout is: 0.7705627679824829\n"
          ]
        }
      ]
    },
    {
      "cell_type": "code",
      "metadata": {
        "colab": {
          "base_uri": "https://localhost:8080/",
          "height": 279
        },
        "id": "HTSdaB0HqwpT",
        "outputId": "3366aa9c-ff45-4816-e668-632e99204a5d"
      },
      "source": [
        "# plotting graph between model2 loss and epochs\n",
        "plt.plot(history2.history['loss'],\"b\")\n",
        "plt.plot(history2.history['val_loss'],\"r\")\n",
        "plt.ylabel('loss2')\n",
        "plt.xlabel('epochs')\n",
        "plt.show()"
      ],
      "execution_count": 244,
      "outputs": [
        {
          "output_type": "display_data",
          "data": {
            "image/png": "[encoded data removed]",
            "text/plain": [
              "<Figure size 432x288 with 1 Axes>"
            ]
          },
          "metadata": {
            "needs_background": "light"
          }
        }
      ]
    },
    {
      "cell_type": "code",
      "metadata": {
        "colab": {
          "base_uri": "https://localhost:8080/",
          "height": 279
        },
        "id": "KtBBrWU5q0o2",
        "outputId": "6136d41e-87f9-42dc-dc9c-9e05c6d1d193"
      },
      "source": [
        "# plotting graph between model2 accuracy and epochs\n",
        "plt.plot(history2.history['accuracy'],'b')\n",
        "plt.plot(history2.history['val_accuracy'],\"r\")\n",
        "\n",
        "plt.ylabel('accuracy2')\n",
        "plt.xlabel('epochs')\n",
        "plt.show()"
      ],
      "execution_count": 245,
      "outputs": [
        {
          "output_type": "display_data",
          "data": {
            "image/png": "[encoded data removed]",
            "text/plain": [
              "<Figure size 432x288 with 1 Axes>"
            ]
          },
          "metadata": {
            "needs_background": "light"
          }
        }
      ]
    }
  ]
}